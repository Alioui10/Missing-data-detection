version https://git-lfs.github.com/spec/v1
oid sha256:c79d607ace0cd855ac1a7e65b6adf18b3fccdce6f468427d1f2d5b85c7c5117e
size 52989492
